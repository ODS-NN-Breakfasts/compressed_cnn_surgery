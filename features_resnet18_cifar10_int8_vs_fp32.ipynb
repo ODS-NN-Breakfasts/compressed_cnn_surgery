{
 "cells": [
  {
   "cell_type": "markdown",
   "metadata": {},
   "source": [
    "## DNN feature viz for ResNet18 on CIFAR10: fp32 vs. int8 model"
   ]
  },
  {
   "cell_type": "code",
   "execution_count": 2,
   "metadata": {},
   "outputs": [
    {
     "data": {
      "text/plain": [
       "<torch._C.Generator at 0x7f39c0c4fcb0>"
      ]
     },
     "execution_count": 2,
     "metadata": {},
     "output_type": "execute_result"
    }
   ],
   "source": [
    "from copy import deepcopy\n",
    "\n",
    "import numpy as np\n",
    "import torch\n",
    "import nncf\n",
    "import torch.nn.functional as F\n",
    "from nncf import create_compressed_model, NNCFConfig, register_default_init_args\n",
    "\n",
    "from torchvision import models, datasets, transforms\n",
    "\n",
    "seed = 42\n",
    "\n",
    "torch.manual_seed(seed)"
   ]
  },
  {
   "cell_type": "markdown",
   "metadata": {},
   "source": [
    "### CIFAR10 dataset utils"
   ]
  },
  {
   "cell_type": "code",
   "execution_count": 3,
   "metadata": {},
   "outputs": [],
   "source": [
    "def get_CIFAR10(root=\"./\"):\n",
    "    input_size = 32\n",
    "    num_classes = 10\n",
    "    normalize = transforms.Normalize((0.4914, 0.4822, 0.4465), (0.2023, 0.1994, 0.2010))\n",
    "\n",
    "    train_transform = transforms.Compose(\n",
    "        [\n",
    "            transforms.RandomCrop(32, padding=4),\n",
    "            transforms.RandomHorizontalFlip(),\n",
    "            transforms.ToTensor(),\n",
    "            normalize,\n",
    "        ]\n",
    "    )\n",
    "    train_dataset = datasets.CIFAR10(\n",
    "        root + \"data/CIFAR10\", train=True, transform=train_transform, download=True\n",
    "    )\n",
    "\n",
    "    test_transform = transforms.Compose(\n",
    "        [\n",
    "            transforms.ToTensor(),\n",
    "            normalize,\n",
    "        ]\n",
    "    )\n",
    "    test_dataset = datasets.CIFAR10(\n",
    "        root + \"data/CIFAR10\", train=False, transform=test_transform, download=True\n",
    "    )\n",
    "\n",
    "    return input_size, num_classes, train_dataset, test_dataset"
   ]
  },
  {
   "cell_type": "markdown",
   "metadata": {},
   "source": [
    "### ResNet18 model from torchvision modified for CIFAR10"
   ]
  },
  {
   "cell_type": "code",
   "execution_count": 4,
   "metadata": {},
   "outputs": [],
   "source": [
    "class Model(torch.nn.Module):\n",
    "    def __init__(self):\n",
    "        super().__init__()\n",
    "\n",
    "        self.resnet = models.resnet18(pretrained=False, num_classes=10)\n",
    "\n",
    "        self.resnet.conv1 = torch.nn.Conv2d(\n",
    "            3, 64, kernel_size=3, stride=1, padding=1, bias=False\n",
    "        )\n",
    "        self.resnet.maxpool = torch.nn.Identity()\n",
    "\n",
    "    def forward(self, x):\n",
    "        x = self.resnet(x)\n",
    "        x = F.log_softmax(x, dim=1)\n",
    "\n",
    "        return x"
   ]
  },
  {
   "cell_type": "markdown",
   "metadata": {},
   "source": [
    "### Validation dataset accuracy check"
   ]
  },
  {
   "cell_type": "code",
   "execution_count": 5,
   "metadata": {},
   "outputs": [],
   "source": [
    "def test(model, test_loader):\n",
    "    model.eval()\n",
    "\n",
    "    loss = 0\n",
    "    correct = 0\n",
    "\n",
    "    for data, target in test_loader:\n",
    "        with torch.no_grad():\n",
    "            data = data.cuda()\n",
    "            target = target.cuda()\n",
    "\n",
    "            prediction = model(data)\n",
    "            loss += F.nll_loss(prediction, target, reduction=\"sum\")\n",
    "\n",
    "            prediction = prediction.max(1)[1]\n",
    "            correct += prediction.eq(target.view_as(prediction)).sum().item()\n",
    "\n",
    "    loss /= len(test_loader.dataset)\n",
    "\n",
    "    percentage_correct = 100.0 * correct / len(test_loader.dataset)\n",
    "\n",
    "    print(\n",
    "        \"Test set: Average loss: {:.4f}, Accuracy: {}/{} ({:.2f}%)\".format(\n",
    "            loss, correct, len(test_loader.dataset), percentage_correct\n",
    "        )\n",
    "    )\n",
    "\n",
    "    return loss, percentage_correct"
   ]
  },
  {
   "cell_type": "code",
   "execution_count": 6,
   "metadata": {
    "scrolled": true
   },
   "outputs": [
    {
     "name": "stdout",
     "output_type": "stream",
     "text": [
      "Files already downloaded and verified\n",
      "Files already downloaded and verified\n"
     ]
    }
   ],
   "source": [
    "input_size, num_classes, train_dataset, test_dataset = get_CIFAR10()\n",
    "kwargs = {\"num_workers\": 16, \"pin_memory\": True}\n",
    "train_loader = torch.utils.data.DataLoader(\n",
    "    train_dataset, batch_size=1024, shuffle=True, **kwargs\n",
    ")\n",
    "test_loader = torch.utils.data.DataLoader(\n",
    "    test_dataset, batch_size=5000, shuffle=False, **kwargs\n",
    ")"
   ]
  },
  {
   "cell_type": "markdown",
   "metadata": {},
   "source": [
    "### NNCF config for model compression"
   ]
  },
  {
   "cell_type": "code",
   "execution_count": 7,
   "metadata": {},
   "outputs": [],
   "source": [
    "nncf_config_dict = {\n",
    "        \"compression\": {\n",
    "            \"algorithm\": \"quantization\",\n",
    "            \"initializer\": {\n",
    "                \"range\": {\n",
    "                    \"num_init_steps\": 5\n",
    "                }\n",
    "            }\n",
    "        }\n",
    "    }\n",
    "nncf_config = NNCFConfig(nncf_config_dict)\n",
    "nncf_config = register_default_init_args(nncf_config, None, train_loader)"
   ]
  },
  {
   "cell_type": "code",
   "execution_count": 10,
   "metadata": {},
   "outputs": [
    {
     "name": "stdout",
     "output_type": "stream",
     "text": [
      "WARNING:nncf:Graphviz is not installed - only the .dot model visualization format will be used. Install pygraphviz into your Python environment and graphviz system-wide to enable PNG rendering.\n",
      "INFO:nncf:Wrapping module Model/ResNet[resnet]/Conv2d[conv1] by Model/ResNet[resnet]/NNCFConv2d[conv1]\n",
      "INFO:nncf:Wrapping module Model/ResNet[resnet]/Sequential[layer1]/BasicBlock[0]/Conv2d[conv1] by Model/ResNet[resnet]/Sequential[layer1]/BasicBlock[0]/NNCFConv2d[conv1]\n",
      "INFO:nncf:Wrapping module Model/ResNet[resnet]/Sequential[layer1]/BasicBlock[0]/Conv2d[conv2] by Model/ResNet[resnet]/Sequential[layer1]/BasicBlock[0]/NNCFConv2d[conv2]\n",
      "INFO:nncf:Wrapping module Model/ResNet[resnet]/Sequential[layer1]/BasicBlock[1]/Conv2d[conv1] by Model/ResNet[resnet]/Sequential[layer1]/BasicBlock[1]/NNCFConv2d[conv1]\n",
      "INFO:nncf:Wrapping module Model/ResNet[resnet]/Sequential[layer1]/BasicBlock[1]/Conv2d[conv2] by Model/ResNet[resnet]/Sequential[layer1]/BasicBlock[1]/NNCFConv2d[conv2]\n",
      "INFO:nncf:Wrapping module Model/ResNet[resnet]/Sequential[layer2]/BasicBlock[0]/Conv2d[conv1] by Model/ResNet[resnet]/Sequential[layer2]/BasicBlock[0]/NNCFConv2d[conv1]\n",
      "INFO:nncf:Wrapping module Model/ResNet[resnet]/Sequential[layer2]/BasicBlock[0]/Conv2d[conv2] by Model/ResNet[resnet]/Sequential[layer2]/BasicBlock[0]/NNCFConv2d[conv2]\n",
      "INFO:nncf:Wrapping module Model/ResNet[resnet]/Sequential[layer2]/BasicBlock[0]/Sequential[downsample]/Conv2d[0] by Model/ResNet[resnet]/Sequential[layer2]/BasicBlock[0]/Sequential[downsample]/NNCFConv2d[0]\n",
      "INFO:nncf:Wrapping module Model/ResNet[resnet]/Sequential[layer2]/BasicBlock[1]/Conv2d[conv1] by Model/ResNet[resnet]/Sequential[layer2]/BasicBlock[1]/NNCFConv2d[conv1]\n",
      "INFO:nncf:Wrapping module Model/ResNet[resnet]/Sequential[layer2]/BasicBlock[1]/Conv2d[conv2] by Model/ResNet[resnet]/Sequential[layer2]/BasicBlock[1]/NNCFConv2d[conv2]\n",
      "INFO:nncf:Wrapping module Model/ResNet[resnet]/Sequential[layer3]/BasicBlock[0]/Conv2d[conv1] by Model/ResNet[resnet]/Sequential[layer3]/BasicBlock[0]/NNCFConv2d[conv1]\n",
      "INFO:nncf:Wrapping module Model/ResNet[resnet]/Sequential[layer3]/BasicBlock[0]/Conv2d[conv2] by Model/ResNet[resnet]/Sequential[layer3]/BasicBlock[0]/NNCFConv2d[conv2]\n",
      "INFO:nncf:Wrapping module Model/ResNet[resnet]/Sequential[layer3]/BasicBlock[0]/Sequential[downsample]/Conv2d[0] by Model/ResNet[resnet]/Sequential[layer3]/BasicBlock[0]/Sequential[downsample]/NNCFConv2d[0]\n",
      "INFO:nncf:Wrapping module Model/ResNet[resnet]/Sequential[layer3]/BasicBlock[1]/Conv2d[conv1] by Model/ResNet[resnet]/Sequential[layer3]/BasicBlock[1]/NNCFConv2d[conv1]\n",
      "INFO:nncf:Wrapping module Model/ResNet[resnet]/Sequential[layer3]/BasicBlock[1]/Conv2d[conv2] by Model/ResNet[resnet]/Sequential[layer3]/BasicBlock[1]/NNCFConv2d[conv2]\n",
      "INFO:nncf:Wrapping module Model/ResNet[resnet]/Sequential[layer4]/BasicBlock[0]/Conv2d[conv1] by Model/ResNet[resnet]/Sequential[layer4]/BasicBlock[0]/NNCFConv2d[conv1]\n",
      "INFO:nncf:Wrapping module Model/ResNet[resnet]/Sequential[layer4]/BasicBlock[0]/Conv2d[conv2] by Model/ResNet[resnet]/Sequential[layer4]/BasicBlock[0]/NNCFConv2d[conv2]\n",
      "INFO:nncf:Wrapping module Model/ResNet[resnet]/Sequential[layer4]/BasicBlock[0]/Sequential[downsample]/Conv2d[0] by Model/ResNet[resnet]/Sequential[layer4]/BasicBlock[0]/Sequential[downsample]/NNCFConv2d[0]\n",
      "INFO:nncf:Wrapping module Model/ResNet[resnet]/Sequential[layer4]/BasicBlock[1]/Conv2d[conv1] by Model/ResNet[resnet]/Sequential[layer4]/BasicBlock[1]/NNCFConv2d[conv1]\n",
      "INFO:nncf:Wrapping module Model/ResNet[resnet]/Sequential[layer4]/BasicBlock[1]/Conv2d[conv2] by Model/ResNet[resnet]/Sequential[layer4]/BasicBlock[1]/NNCFConv2d[conv2]\n",
      "INFO:nncf:Wrapping module Model/ResNet[resnet]/Linear[fc] by Model/ResNet[resnet]/NNCFLinear[fc]\n",
      "INFO:nncf:Creating compression algorithm: quantization\n",
      "INFO:nncf:Adding signed Weight quantizer in scope: Model/ResNet[resnet]/NNCFConv2d[conv1]\n",
      "INFO:nncf:Adding signed Weight quantizer in scope: Model/ResNet[resnet]/Sequential[layer1]/BasicBlock[0]/NNCFConv2d[conv1]\n",
      "INFO:nncf:Adding signed Weight quantizer in scope: Model/ResNet[resnet]/Sequential[layer1]/BasicBlock[0]/NNCFConv2d[conv2]\n",
      "INFO:nncf:Adding signed Weight quantizer in scope: Model/ResNet[resnet]/Sequential[layer1]/BasicBlock[1]/NNCFConv2d[conv1]\n",
      "INFO:nncf:Adding signed Weight quantizer in scope: Model/ResNet[resnet]/Sequential[layer1]/BasicBlock[1]/NNCFConv2d[conv2]\n",
      "INFO:nncf:Adding signed Weight quantizer in scope: Model/ResNet[resnet]/Sequential[layer2]/BasicBlock[0]/NNCFConv2d[conv1]\n",
      "INFO:nncf:Adding signed Weight quantizer in scope: Model/ResNet[resnet]/Sequential[layer2]/BasicBlock[0]/NNCFConv2d[conv2]\n",
      "INFO:nncf:Adding signed Weight quantizer in scope: Model/ResNet[resnet]/Sequential[layer2]/BasicBlock[0]/Sequential[downsample]/NNCFConv2d[0]\n",
      "INFO:nncf:Adding signed Weight quantizer in scope: Model/ResNet[resnet]/Sequential[layer2]/BasicBlock[1]/NNCFConv2d[conv1]\n",
      "INFO:nncf:Adding signed Weight quantizer in scope: Model/ResNet[resnet]/Sequential[layer2]/BasicBlock[1]/NNCFConv2d[conv2]\n",
      "INFO:nncf:Adding signed Weight quantizer in scope: Model/ResNet[resnet]/Sequential[layer3]/BasicBlock[0]/NNCFConv2d[conv1]\n",
      "INFO:nncf:Adding signed Weight quantizer in scope: Model/ResNet[resnet]/Sequential[layer3]/BasicBlock[0]/NNCFConv2d[conv2]\n",
      "INFO:nncf:Adding signed Weight quantizer in scope: Model/ResNet[resnet]/Sequential[layer3]/BasicBlock[0]/Sequential[downsample]/NNCFConv2d[0]\n",
      "INFO:nncf:Adding signed Weight quantizer in scope: Model/ResNet[resnet]/Sequential[layer3]/BasicBlock[1]/NNCFConv2d[conv1]\n",
      "INFO:nncf:Adding signed Weight quantizer in scope: Model/ResNet[resnet]/Sequential[layer3]/BasicBlock[1]/NNCFConv2d[conv2]\n",
      "INFO:nncf:Adding signed Weight quantizer in scope: Model/ResNet[resnet]/Sequential[layer4]/BasicBlock[0]/NNCFConv2d[conv1]\n",
      "INFO:nncf:Adding signed Weight quantizer in scope: Model/ResNet[resnet]/Sequential[layer4]/BasicBlock[0]/NNCFConv2d[conv2]\n",
      "INFO:nncf:Adding signed Weight quantizer in scope: Model/ResNet[resnet]/Sequential[layer4]/BasicBlock[0]/Sequential[downsample]/NNCFConv2d[0]\n",
      "INFO:nncf:Adding signed Weight quantizer in scope: Model/ResNet[resnet]/Sequential[layer4]/BasicBlock[1]/NNCFConv2d[conv1]\n",
      "INFO:nncf:Adding signed Weight quantizer in scope: Model/ResNet[resnet]/Sequential[layer4]/BasicBlock[1]/NNCFConv2d[conv2]\n",
      "INFO:nncf:Adding signed Weight quantizer in scope: Model/ResNet[resnet]/NNCFLinear[fc]\n",
      "INFO:nncf:Adding unsigned Activation Quantize in scope: Model/ResNet[resnet]/Sequential[layer3]/BasicBlock[0]/ReLU[relu]/RELU_0\n",
      "INFO:nncf:Adding unsigned Activation Quantize in scope: Model/ResNet[resnet]/Sequential[layer4]/BasicBlock[1]/BatchNorm2d[bn2]/batch_norm_0\n",
      "INFO:nncf:Adding unsigned Activation Quantize in scope: Model/ResNet[resnet]/Sequential[layer2]/BasicBlock[0]/Sequential[downsample]/BatchNorm2d[1]/batch_norm_0\n",
      "INFO:nncf:Adding unsigned Activation Quantize in scope: Model/ResNet[resnet]/Sequential[layer2]/BasicBlock[0]/ReLU[relu]/RELU_0\n",
      "INFO:nncf:Adding unsigned Activation Quantize in scope: Model/ResNet[resnet]/Sequential[layer4]/BasicBlock[0]/ReLU[relu]/RELU_1\n",
      "INFO:nncf:Ignored adding Activation Quantize in scope (output scope, quantize_outputs=False): Model/ResNet[resnet]/NNCFLinear[fc]/linear_0\n",
      "INFO:nncf:Adding unsigned Activation Quantize in scope: Model/ResNet[resnet]/Sequential[layer2]/BasicBlock[0]/BatchNorm2d[bn2]/batch_norm_0\n",
      "INFO:nncf:Adding unsigned Activation Quantize in scope: Model/ResNet[resnet]/Sequential[layer2]/BasicBlock[1]/ReLU[relu]/RELU_0\n",
      "INFO:nncf:Adding unsigned Activation Quantize in scope: Model/ResNet[resnet]/Sequential[layer1]/BasicBlock[1]/ReLU[relu]/RELU_0\n",
      "INFO:nncf:Adding unsigned Activation Quantize in scope: Model/ResNet[resnet]/Sequential[layer2]/BasicBlock[1]/BatchNorm2d[bn2]/batch_norm_0\n",
      "INFO:nncf:Adding unsigned Activation Quantize in scope: Model/ResNet[resnet]/ReLU[relu]/RELU_0\n",
      "INFO:nncf:Adding unsigned Activation Quantize in scope: Model/ResNet[resnet]/Sequential[layer3]/BasicBlock[1]/ReLU[relu]/RELU_0\n",
      "INFO:nncf:Adding unsigned Activation Quantize in scope: Model/ResNet[resnet]/Sequential[layer3]/BasicBlock[1]/BatchNorm2d[bn2]/batch_norm_0\n",
      "INFO:nncf:Adding unsigned Activation Quantize in scope: Model/ResNet[resnet]/Sequential[layer1]/BasicBlock[0]/ReLU[relu]/RELU_1\n"
     ]
    },
    {
     "name": "stdout",
     "output_type": "stream",
     "text": [
      "INFO:nncf:Adding unsigned Activation Quantize in scope: Model/ResNet[resnet]/Sequential[layer3]/BasicBlock[0]/ReLU[relu]/RELU_1\n",
      "INFO:nncf:Adding unsigned Activation Quantize in scope: Model/ResNet[resnet]/Sequential[layer4]/BasicBlock[0]/ReLU[relu]/RELU_0\n",
      "INFO:nncf:Adding unsigned Activation Quantize in scope: Model/ResNet[resnet]/Sequential[layer1]/BasicBlock[1]/BatchNorm2d[bn2]/batch_norm_0\n",
      "INFO:nncf:Adding unsigned Activation Quantize in scope: Model/ResNet[resnet]/Sequential[layer2]/BasicBlock[0]/ReLU[relu]/RELU_1\n",
      "INFO:nncf:Adding unsigned Activation Quantize in scope: Model/ResNet[resnet]/Sequential[layer1]/BasicBlock[0]/ReLU[relu]/RELU_0\n",
      "INFO:nncf:Adding unsigned Activation Quantize in scope: Model/ResNet[resnet]/Sequential[layer1]/BasicBlock[0]/BatchNorm2d[bn2]/batch_norm_0\n",
      "INFO:nncf:Adding unsigned Activation Quantize in scope: Model/ResNet[resnet]/Sequential[layer4]/BasicBlock[1]/ReLU[relu]/RELU_1\n",
      "INFO:nncf:Adding unsigned Activation Quantize in scope: Model/ResNet[resnet]/Sequential[layer4]/BasicBlock[0]/BatchNorm2d[bn2]/batch_norm_0\n",
      "INFO:nncf:Adding unsigned Activation Quantize in scope: Model/ResNet[resnet]/Sequential[layer2]/BasicBlock[1]/ReLU[relu]/RELU_1\n",
      "INFO:nncf:Adding unsigned Activation Quantize in scope: Model/ResNet[resnet]/AdaptiveAvgPool2d[avgpool]/adaptive_avg_pool2d_0\n",
      "INFO:nncf:Adding unsigned Activation Quantize in scope: Model/ResNet[resnet]/Sequential[layer4]/BasicBlock[0]/Sequential[downsample]/BatchNorm2d[1]/batch_norm_0\n",
      "INFO:nncf:Adding unsigned Activation Quantize in scope: Model/ResNet[resnet]/Sequential[layer3]/BasicBlock[1]/ReLU[relu]/RELU_1\n",
      "INFO:nncf:Adding unsigned Activation Quantize in scope: Model/ResNet[resnet]/Sequential[layer3]/BasicBlock[0]/Sequential[downsample]/BatchNorm2d[1]/batch_norm_0\n",
      "INFO:nncf:Adding unsigned Activation Quantize in scope: Model/ResNet[resnet]/Sequential[layer3]/BasicBlock[0]/BatchNorm2d[bn2]/batch_norm_0\n",
      "INFO:nncf:Adding unsigned Activation Quantize in scope: Model/ResNet[resnet]/Sequential[layer4]/BasicBlock[1]/ReLU[relu]/RELU_0\n",
      "INFO:nncf:Adding unsigned Activation Quantize in scope: Model/ResNet[resnet]/Sequential[layer1]/BasicBlock[1]/ReLU[relu]/RELU_1\n",
      "INFO:nncf:Adding unsigned NNCF module input quantizer in scope: Model/ResNet[resnet]/NNCFConv2d[conv1]\n"
     ]
    },
    {
     "name": "stderr",
     "output_type": "stream",
     "text": [
      "Range parameters initialization: 100%|██████████ |5/5 [00:00<00:00]"
     ]
    },
    {
     "name": "stdout",
     "output_type": "stream",
     "text": [
      "INFO:nncf:Set sign: True and scale: [2.7537, ] for NNCFNetwork/Model[nncf_module]/ResNet[resnet]/NNCFConv2d[conv1]/ModuleDict[pre_ops]/UpdateInputs[1]/SymmetricQuantizer[op]\n",
      "INFO:nncf:Set sign: True and scale: [0.1924, ] for NNCFNetwork/Model[nncf_module]/ResNet[resnet]/NNCFConv2d[conv1]/ModuleDict[pre_ops]/UpdateWeight[0]/SymmetricQuantizer[op]\n",
      "INFO:nncf:Set sign: True and scale: [0.1000, ] for NNCFNetwork/Model[nncf_module]/ResNet[resnet]/NNCFLinear[fc]/ModuleDict[pre_ops]/UpdateWeight[0]/SymmetricQuantizer[op]\n",
      "INFO:nncf:Set sign: True and scale: [0.2543, ] for NNCFNetwork/Model[nncf_module]/ResNet[resnet]/Sequential[layer1]/BasicBlock[0]/NNCFConv2d[conv1]/ModuleDict[pre_ops]/UpdateWeight[0]/SymmetricQuantizer[op]\n",
      "INFO:nncf:Set sign: True and scale: [0.2425, ] for NNCFNetwork/Model[nncf_module]/ResNet[resnet]/Sequential[layer1]/BasicBlock[0]/NNCFConv2d[conv2]/ModuleDict[pre_ops]/UpdateWeight[0]/SymmetricQuantizer[op]\n",
      "INFO:nncf:Set sign: True and scale: [0.2339, ] for NNCFNetwork/Model[nncf_module]/ResNet[resnet]/Sequential[layer1]/BasicBlock[1]/NNCFConv2d[conv1]/ModuleDict[pre_ops]/UpdateWeight[0]/SymmetricQuantizer[op]\n",
      "INFO:nncf:Set sign: True and scale: [0.2827, ] for NNCFNetwork/Model[nncf_module]/ResNet[resnet]/Sequential[layer1]/BasicBlock[1]/NNCFConv2d[conv2]/ModuleDict[pre_ops]/UpdateWeight[0]/SymmetricQuantizer[op]\n",
      "INFO:nncf:Set sign: True and scale: [0.1812, ] for NNCFNetwork/Model[nncf_module]/ResNet[resnet]/Sequential[layer2]/BasicBlock[0]/NNCFConv2d[conv1]/ModuleDict[pre_ops]/UpdateWeight[0]/SymmetricQuantizer[op]\n",
      "INFO:nncf:Set sign: True and scale: [0.1978, ] for NNCFNetwork/Model[nncf_module]/ResNet[resnet]/Sequential[layer2]/BasicBlock[0]/NNCFConv2d[conv2]/ModuleDict[pre_ops]/UpdateWeight[0]/SymmetricQuantizer[op]\n",
      "INFO:nncf:Set sign: True and scale: [0.4945, ] for NNCFNetwork/Model[nncf_module]/ResNet[resnet]/Sequential[layer2]/BasicBlock[0]/Sequential[downsample]/NNCFConv2d[0]/ModuleDict[pre_ops]/UpdateWeight[0]/SymmetricQuantizer[op]\n",
      "INFO:nncf:Set sign: True and scale: [0.1861, ] for NNCFNetwork/Model[nncf_module]/ResNet[resnet]/Sequential[layer2]/BasicBlock[1]/NNCFConv2d[conv1]/ModuleDict[pre_ops]/UpdateWeight[0]/SymmetricQuantizer[op]\n",
      "INFO:nncf:Set sign: True and scale: [0.1863, ] for NNCFNetwork/Model[nncf_module]/ResNet[resnet]/Sequential[layer2]/BasicBlock[1]/NNCFConv2d[conv2]/ModuleDict[pre_ops]/UpdateWeight[0]/SymmetricQuantizer[op]\n",
      "INFO:nncf:Set sign: True and scale: [0.1400, ] for NNCFNetwork/Model[nncf_module]/ResNet[resnet]/Sequential[layer3]/BasicBlock[0]/NNCFConv2d[conv1]/ModuleDict[pre_ops]/UpdateWeight[0]/SymmetricQuantizer[op]\n",
      "INFO:nncf:Set sign: True and scale: [0.1393, ] for NNCFNetwork/Model[nncf_module]/ResNet[resnet]/Sequential[layer3]/BasicBlock[0]/NNCFConv2d[conv2]/ModuleDict[pre_ops]/UpdateWeight[0]/SymmetricQuantizer[op]\n",
      "INFO:nncf:Set sign: True and scale: [0.4094, ] for NNCFNetwork/Model[nncf_module]/ResNet[resnet]/Sequential[layer3]/BasicBlock[0]/Sequential[downsample]/NNCFConv2d[0]/ModuleDict[pre_ops]/UpdateWeight[0]/SymmetricQuantizer[op]\n",
      "INFO:nncf:Set sign: True and scale: [0.1469, ] for NNCFNetwork/Model[nncf_module]/ResNet[resnet]/Sequential[layer3]/BasicBlock[1]/NNCFConv2d[conv1]/ModuleDict[pre_ops]/UpdateWeight[0]/SymmetricQuantizer[op]\n",
      "INFO:nncf:Set sign: True and scale: [0.1595, ] for NNCFNetwork/Model[nncf_module]/ResNet[resnet]/Sequential[layer3]/BasicBlock[1]/NNCFConv2d[conv2]/ModuleDict[pre_ops]/UpdateWeight[0]/SymmetricQuantizer[op]\n",
      "INFO:nncf:Set sign: True and scale: [0.1056, ] for NNCFNetwork/Model[nncf_module]/ResNet[resnet]/Sequential[layer4]/BasicBlock[0]/NNCFConv2d[conv1]/ModuleDict[pre_ops]/UpdateWeight[0]/SymmetricQuantizer[op]\n",
      "INFO:nncf:Set sign: True and scale: [0.1025, ] for NNCFNetwork/Model[nncf_module]/ResNet[resnet]/Sequential[layer4]/BasicBlock[0]/NNCFConv2d[conv2]/ModuleDict[pre_ops]/UpdateWeight[0]/SymmetricQuantizer[op]\n",
      "INFO:nncf:Set sign: True and scale: [0.3011, ] for NNCFNetwork/Model[nncf_module]/ResNet[resnet]/Sequential[layer4]/BasicBlock[0]/Sequential[downsample]/NNCFConv2d[0]/ModuleDict[pre_ops]/UpdateWeight[0]/SymmetricQuantizer[op]\n",
      "INFO:nncf:Set sign: True and scale: [0.1043, ] for NNCFNetwork/Model[nncf_module]/ResNet[resnet]/Sequential[layer4]/BasicBlock[1]/NNCFConv2d[conv1]/ModuleDict[pre_ops]/UpdateWeight[0]/SymmetricQuantizer[op]\n",
      "INFO:nncf:Set sign: True and scale: [0.1163, ] for NNCFNetwork/Model[nncf_module]/ResNet[resnet]/Sequential[layer4]/BasicBlock[1]/NNCFConv2d[conv2]/ModuleDict[pre_ops]/UpdateWeight[0]/SymmetricQuantizer[op]\n",
      "INFO:nncf:Set sign: False and scale: [8.0842, ] for NNCFNetwork/ModuleDict[activation_quantizers]/SymmetricQuantizer[Model/ResNet[resnet]/AdaptiveAvgPool2d[avgpool]/adaptive_avg_pool2d_0]\n",
      "INFO:nncf:Set sign: False and scale: [7.4780, ] for NNCFNetwork/ModuleDict[activation_quantizers]/SymmetricQuantizer[Model/ResNet[resnet]/ReLU[relu]/RELU_0]\n",
      "INFO:nncf:Set sign: True and scale: [9.7996, ] for NNCFNetwork/ModuleDict[activation_quantizers]/SymmetricQuantizer[Model/ResNet[resnet]/Sequential[layer1]/BasicBlock[0]/BatchNorm2d[bn2]/batch_norm_0]\n",
      "INFO:nncf:Set sign: False and scale: [8.4151, ] for NNCFNetwork/ModuleDict[activation_quantizers]/SymmetricQuantizer[Model/ResNet[resnet]/Sequential[layer1]/BasicBlock[0]/ReLU[relu]/RELU_0]\n",
      "INFO:nncf:Set sign: False and scale: [12.7836, ] for NNCFNetwork/ModuleDict[activation_quantizers]/SymmetricQuantizer[Model/ResNet[resnet]/Sequential[layer1]/BasicBlock[0]/ReLU[relu]/RELU_1]\n",
      "INFO:nncf:Set sign: True and scale: [10.6732, ] for NNCFNetwork/ModuleDict[activation_quantizers]/SymmetricQuantizer[Model/ResNet[resnet]/Sequential[layer1]/BasicBlock[1]/BatchNorm2d[bn2]/batch_norm_0]\n",
      "INFO:nncf:Set sign: False and scale: [9.1406, ] for NNCFNetwork/ModuleDict[activation_quantizers]/SymmetricQuantizer[Model/ResNet[resnet]/Sequential[layer1]/BasicBlock[1]/ReLU[relu]/RELU_0]\n",
      "INFO:nncf:Set sign: False and scale: [16.6815, ] for NNCFNetwork/ModuleDict[activation_quantizers]/SymmetricQuantizer[Model/ResNet[resnet]/Sequential[layer1]/BasicBlock[1]/ReLU[relu]/RELU_1]\n",
      "INFO:nncf:Set sign: True and scale: [9.5945, ] for NNCFNetwork/ModuleDict[activation_quantizers]/SymmetricQuantizer[Model/ResNet[resnet]/Sequential[layer2]/BasicBlock[0]/BatchNorm2d[bn2]/batch_norm_0]\n",
      "INFO:nncf:Set sign: False and scale: [9.3194, ] for NNCFNetwork/ModuleDict[activation_quantizers]/SymmetricQuantizer[Model/ResNet[resnet]/Sequential[layer2]/BasicBlock[0]/ReLU[relu]/RELU_0]\n",
      "INFO:nncf:Set sign: False and scale: [13.5211, ] for NNCFNetwork/ModuleDict[activation_quantizers]/SymmetricQuantizer[Model/ResNet[resnet]/Sequential[layer2]/BasicBlock[0]/ReLU[relu]/RELU_1]\n",
      "INFO:nncf:Set sign: True and scale: [10.0149, ] for NNCFNetwork/ModuleDict[activation_quantizers]/SymmetricQuantizer[Model/ResNet[resnet]/Sequential[layer2]/BasicBlock[0]/Sequential[downsample]/BatchNorm2d[1]/batch_norm_0]\n",
      "INFO:nncf:Set sign: True and scale: [9.5574, ] for NNCFNetwork/ModuleDict[activation_quantizers]/SymmetricQuantizer[Model/ResNet[resnet]/Sequential[layer2]/BasicBlock[1]/BatchNorm2d[bn2]/batch_norm_0]\n",
      "INFO:nncf:Set sign: False and scale: [9.1920, ] for NNCFNetwork/ModuleDict[activation_quantizers]/SymmetricQuantizer[Model/ResNet[resnet]/Sequential[layer2]/BasicBlock[1]/ReLU[relu]/RELU_0]\n",
      "INFO:nncf:Set sign: False and scale: [16.2580, ] for NNCFNetwork/ModuleDict[activation_quantizers]/SymmetricQuantizer[Model/ResNet[resnet]/Sequential[layer2]/BasicBlock[1]/ReLU[relu]/RELU_1]\n",
      "INFO:nncf:Set sign: True and scale: [9.8921, ] for NNCFNetwork/ModuleDict[activation_quantizers]/SymmetricQuantizer[Model/ResNet[resnet]/Sequential[layer3]/BasicBlock[0]/BatchNorm2d[bn2]/batch_norm_0]\n",
      "INFO:nncf:Set sign: False and scale: [9.9881, ] for NNCFNetwork/ModuleDict[activation_quantizers]/SymmetricQuantizer[Model/ResNet[resnet]/Sequential[layer3]/BasicBlock[0]/ReLU[relu]/RELU_0]\n",
      "INFO:nncf:Set sign: False and scale: [14.9857, ] for NNCFNetwork/ModuleDict[activation_quantizers]/SymmetricQuantizer[Model/ResNet[resnet]/Sequential[layer3]/BasicBlock[0]/ReLU[relu]/RELU_1]\n",
      "INFO:nncf:Set sign: True and scale: [10.3341, ] for NNCFNetwork/ModuleDict[activation_quantizers]/SymmetricQuantizer[Model/ResNet[resnet]/Sequential[layer3]/BasicBlock[0]/Sequential[downsample]/BatchNorm2d[1]/batch_norm_0]\n"
     ]
    },
    {
     "name": "stdout",
     "output_type": "stream",
     "text": [
      "INFO:nncf:Set sign: True and scale: [11.1217, ] for NNCFNetwork/ModuleDict[activation_quantizers]/SymmetricQuantizer[Model/ResNet[resnet]/Sequential[layer3]/BasicBlock[1]/BatchNorm2d[bn2]/batch_norm_0]\n",
      "INFO:nncf:Set sign: False and scale: [9.4826, ] for NNCFNetwork/ModuleDict[activation_quantizers]/SymmetricQuantizer[Model/ResNet[resnet]/Sequential[layer3]/BasicBlock[1]/ReLU[relu]/RELU_0]\n"
     ]
    },
    {
     "name": "stderr",
     "output_type": "stream",
     "text": [
      "\n"
     ]
    },
    {
     "name": "stdout",
     "output_type": "stream",
     "text": [
      "INFO:nncf:Set sign: False and scale: [17.1023, ] for NNCFNetwork/ModuleDict[activation_quantizers]/SymmetricQuantizer[Model/ResNet[resnet]/Sequential[layer3]/BasicBlock[1]/ReLU[relu]/RELU_1]\n",
      "INFO:nncf:Set sign: True and scale: [10.2266, ] for NNCFNetwork/ModuleDict[activation_quantizers]/SymmetricQuantizer[Model/ResNet[resnet]/Sequential[layer4]/BasicBlock[0]/BatchNorm2d[bn2]/batch_norm_0]\n",
      "INFO:nncf:Set sign: False and scale: [9.8169, ] for NNCFNetwork/ModuleDict[activation_quantizers]/SymmetricQuantizer[Model/ResNet[resnet]/Sequential[layer4]/BasicBlock[0]/ReLU[relu]/RELU_0]\n",
      "INFO:nncf:Set sign: False and scale: [14.8186, ] for NNCFNetwork/ModuleDict[activation_quantizers]/SymmetricQuantizer[Model/ResNet[resnet]/Sequential[layer4]/BasicBlock[0]/ReLU[relu]/RELU_1]\n",
      "INFO:nncf:Set sign: True and scale: [10.5592, ] for NNCFNetwork/ModuleDict[activation_quantizers]/SymmetricQuantizer[Model/ResNet[resnet]/Sequential[layer4]/BasicBlock[0]/Sequential[downsample]/BatchNorm2d[1]/batch_norm_0]\n",
      "INFO:nncf:Set sign: True and scale: [10.7552, ] for NNCFNetwork/ModuleDict[activation_quantizers]/SymmetricQuantizer[Model/ResNet[resnet]/Sequential[layer4]/BasicBlock[1]/BatchNorm2d[bn2]/batch_norm_0]\n",
      "INFO:nncf:Set sign: False and scale: [10.6309, ] for NNCFNetwork/ModuleDict[activation_quantizers]/SymmetricQuantizer[Model/ResNet[resnet]/Sequential[layer4]/BasicBlock[1]/ReLU[relu]/RELU_0]\n",
      "INFO:nncf:Set sign: False and scale: [18.4742, ] for NNCFNetwork/ModuleDict[activation_quantizers]/SymmetricQuantizer[Model/ResNet[resnet]/Sequential[layer4]/BasicBlock[1]/ReLU[relu]/RELU_1]\n",
      "WARNING:nncf:Graphviz is not installed - only the .dot model visualization format will be used. Install pygraphviz into your Python environment and graphviz system-wide to enable PNG rendering.\n"
     ]
    },
    {
     "data": {
      "text/plain": [
       "<All keys matched successfully>"
      ]
     },
     "execution_count": 10,
     "metadata": {},
     "output_type": "execute_result"
    }
   ],
   "source": [
    "model = Model()\n",
    "model = model.cuda()\n",
    "compression_ctrl, compressed_model = create_compressed_model(deepcopy(model), nncf_config)\n",
    "    \n",
    "CKPT_PATH = './resnet18_cifar10.pth'\n",
    "model.load_state_dict(torch.load(CKPT_PATH))\n",
    "\n",
    "INT8_CKPT_PATH = './resnet18_cifar10_int8.pth'\n",
    "compressed_model.load_state_dict(torch.load(INT8_CKPT_PATH))"
   ]
  },
  {
   "cell_type": "code",
   "execution_count": 11,
   "metadata": {},
   "outputs": [
    {
     "name": "stdout",
     "output_type": "stream",
     "text": [
      "Test set: Average loss: 0.2788, Accuracy: 9220/10000 (92.20%)\n"
     ]
    },
    {
     "data": {
      "text/plain": [
       "(tensor(0.2788, device='cuda:0'), 92.2)"
      ]
     },
     "execution_count": 11,
     "metadata": {},
     "output_type": "execute_result"
    }
   ],
   "source": [
    "test(model, test_loader)"
   ]
  },
  {
   "cell_type": "code",
   "execution_count": 12,
   "metadata": {},
   "outputs": [
    {
     "name": "stdout",
     "output_type": "stream",
     "text": [
      "Test set: Average loss: 0.2878, Accuracy: 9215/10000 (92.15%)\n"
     ]
    },
    {
     "data": {
      "text/plain": [
       "(tensor(0.2878, device='cuda:0'), 92.15)"
      ]
     },
     "execution_count": 12,
     "metadata": {},
     "output_type": "execute_result"
    }
   ],
   "source": [
    "test(compressed_model, test_loader)"
   ]
  },
  {
   "cell_type": "markdown",
   "metadata": {},
   "source": [
    "### Let's look at model structure"
   ]
  },
  {
   "cell_type": "code",
   "execution_count": 11,
   "metadata": {},
   "outputs": [
    {
     "data": {
      "text/plain": [
       "Model(\n",
       "  (resnet): ResNet(\n",
       "    (conv1): Conv2d(3, 64, kernel_size=(3, 3), stride=(1, 1), padding=(1, 1), bias=False)\n",
       "    (bn1): BatchNorm2d(64, eps=1e-05, momentum=0.1, affine=True, track_running_stats=True)\n",
       "    (relu): ReLU(inplace=True)\n",
       "    (maxpool): Identity()\n",
       "    (layer1): Sequential(\n",
       "      (0): BasicBlock(\n",
       "        (conv1): Conv2d(64, 64, kernel_size=(3, 3), stride=(1, 1), padding=(1, 1), bias=False)\n",
       "        (bn1): BatchNorm2d(64, eps=1e-05, momentum=0.1, affine=True, track_running_stats=True)\n",
       "        (relu): ReLU(inplace=True)\n",
       "        (conv2): Conv2d(64, 64, kernel_size=(3, 3), stride=(1, 1), padding=(1, 1), bias=False)\n",
       "        (bn2): BatchNorm2d(64, eps=1e-05, momentum=0.1, affine=True, track_running_stats=True)\n",
       "      )\n",
       "      (1): BasicBlock(\n",
       "        (conv1): Conv2d(64, 64, kernel_size=(3, 3), stride=(1, 1), padding=(1, 1), bias=False)\n",
       "        (bn1): BatchNorm2d(64, eps=1e-05, momentum=0.1, affine=True, track_running_stats=True)\n",
       "        (relu): ReLU(inplace=True)\n",
       "        (conv2): Conv2d(64, 64, kernel_size=(3, 3), stride=(1, 1), padding=(1, 1), bias=False)\n",
       "        (bn2): BatchNorm2d(64, eps=1e-05, momentum=0.1, affine=True, track_running_stats=True)\n",
       "      )\n",
       "    )\n",
       "    (layer2): Sequential(\n",
       "      (0): BasicBlock(\n",
       "        (conv1): Conv2d(64, 128, kernel_size=(3, 3), stride=(2, 2), padding=(1, 1), bias=False)\n",
       "        (bn1): BatchNorm2d(128, eps=1e-05, momentum=0.1, affine=True, track_running_stats=True)\n",
       "        (relu): ReLU(inplace=True)\n",
       "        (conv2): Conv2d(128, 128, kernel_size=(3, 3), stride=(1, 1), padding=(1, 1), bias=False)\n",
       "        (bn2): BatchNorm2d(128, eps=1e-05, momentum=0.1, affine=True, track_running_stats=True)\n",
       "        (downsample): Sequential(\n",
       "          (0): Conv2d(64, 128, kernel_size=(1, 1), stride=(2, 2), bias=False)\n",
       "          (1): BatchNorm2d(128, eps=1e-05, momentum=0.1, affine=True, track_running_stats=True)\n",
       "        )\n",
       "      )\n",
       "      (1): BasicBlock(\n",
       "        (conv1): Conv2d(128, 128, kernel_size=(3, 3), stride=(1, 1), padding=(1, 1), bias=False)\n",
       "        (bn1): BatchNorm2d(128, eps=1e-05, momentum=0.1, affine=True, track_running_stats=True)\n",
       "        (relu): ReLU(inplace=True)\n",
       "        (conv2): Conv2d(128, 128, kernel_size=(3, 3), stride=(1, 1), padding=(1, 1), bias=False)\n",
       "        (bn2): BatchNorm2d(128, eps=1e-05, momentum=0.1, affine=True, track_running_stats=True)\n",
       "      )\n",
       "    )\n",
       "    (layer3): Sequential(\n",
       "      (0): BasicBlock(\n",
       "        (conv1): Conv2d(128, 256, kernel_size=(3, 3), stride=(2, 2), padding=(1, 1), bias=False)\n",
       "        (bn1): BatchNorm2d(256, eps=1e-05, momentum=0.1, affine=True, track_running_stats=True)\n",
       "        (relu): ReLU(inplace=True)\n",
       "        (conv2): Conv2d(256, 256, kernel_size=(3, 3), stride=(1, 1), padding=(1, 1), bias=False)\n",
       "        (bn2): BatchNorm2d(256, eps=1e-05, momentum=0.1, affine=True, track_running_stats=True)\n",
       "        (downsample): Sequential(\n",
       "          (0): Conv2d(128, 256, kernel_size=(1, 1), stride=(2, 2), bias=False)\n",
       "          (1): BatchNorm2d(256, eps=1e-05, momentum=0.1, affine=True, track_running_stats=True)\n",
       "        )\n",
       "      )\n",
       "      (1): BasicBlock(\n",
       "        (conv1): Conv2d(256, 256, kernel_size=(3, 3), stride=(1, 1), padding=(1, 1), bias=False)\n",
       "        (bn1): BatchNorm2d(256, eps=1e-05, momentum=0.1, affine=True, track_running_stats=True)\n",
       "        (relu): ReLU(inplace=True)\n",
       "        (conv2): Conv2d(256, 256, kernel_size=(3, 3), stride=(1, 1), padding=(1, 1), bias=False)\n",
       "        (bn2): BatchNorm2d(256, eps=1e-05, momentum=0.1, affine=True, track_running_stats=True)\n",
       "      )\n",
       "    )\n",
       "    (layer4): Sequential(\n",
       "      (0): BasicBlock(\n",
       "        (conv1): Conv2d(256, 512, kernel_size=(3, 3), stride=(2, 2), padding=(1, 1), bias=False)\n",
       "        (bn1): BatchNorm2d(512, eps=1e-05, momentum=0.1, affine=True, track_running_stats=True)\n",
       "        (relu): ReLU(inplace=True)\n",
       "        (conv2): Conv2d(512, 512, kernel_size=(3, 3), stride=(1, 1), padding=(1, 1), bias=False)\n",
       "        (bn2): BatchNorm2d(512, eps=1e-05, momentum=0.1, affine=True, track_running_stats=True)\n",
       "        (downsample): Sequential(\n",
       "          (0): Conv2d(256, 512, kernel_size=(1, 1), stride=(2, 2), bias=False)\n",
       "          (1): BatchNorm2d(512, eps=1e-05, momentum=0.1, affine=True, track_running_stats=True)\n",
       "        )\n",
       "      )\n",
       "      (1): BasicBlock(\n",
       "        (conv1): Conv2d(512, 512, kernel_size=(3, 3), stride=(1, 1), padding=(1, 1), bias=False)\n",
       "        (bn1): BatchNorm2d(512, eps=1e-05, momentum=0.1, affine=True, track_running_stats=True)\n",
       "        (relu): ReLU(inplace=True)\n",
       "        (conv2): Conv2d(512, 512, kernel_size=(3, 3), stride=(1, 1), padding=(1, 1), bias=False)\n",
       "        (bn2): BatchNorm2d(512, eps=1e-05, momentum=0.1, affine=True, track_running_stats=True)\n",
       "      )\n",
       "    )\n",
       "    (avgpool): AdaptiveAvgPool2d(output_size=(1, 1))\n",
       "    (fc): Linear(in_features=512, out_features=10, bias=True)\n",
       "  )\n",
       ")"
      ]
     },
     "execution_count": 11,
     "metadata": {},
     "output_type": "execute_result"
    }
   ],
   "source": [
    "model"
   ]
  },
  {
   "cell_type": "markdown",
   "metadata": {},
   "source": [
    "### Import GradientAscent from flashtorch for activation maximization\n",
    "\n",
    "Monkey-patching its optimize method to allow NNCFConv2d layers besides standard Conv2d"
   ]
  },
  {
   "cell_type": "code",
   "execution_count": 13,
   "metadata": {},
   "outputs": [],
   "source": [
    "from flashtorch.activmax import GradientAscent\n",
    "from flashtorch.utils import apply_transforms\n",
    "\n",
    "\n",
    "def optimize(self, layer, filter_idx, input_=None, num_iter=30):\n",
    "\n",
    "    # Validate filter index\n",
    "\n",
    "    num_total_filters = layer.out_channels\n",
    "    self._validate_filter_idx(num_total_filters, filter_idx)\n",
    "\n",
    "    # Initialize input (as noise) if not provided\n",
    "\n",
    "    if input_ is None:\n",
    "        input_ = np.uint8(np.random.uniform(\n",
    "            150, 180, (self._img_size, self._img_size, 3)))\n",
    "        input_ = apply_transforms(input_, size=self._img_size)\n",
    "\n",
    "    if torch.cuda.is_available() and self.use_gpu:\n",
    "        self.model = self.model.to('cuda')\n",
    "        input_ = input_.to('cuda')\n",
    "\n",
    "    # Remove previous hooks if any\n",
    "\n",
    "    while len(self.handlers) > 0:\n",
    "        self.handlers.pop().remove()\n",
    "\n",
    "    # Register hooks to record activation and gradients\n",
    "\n",
    "    self.handlers.append(self._register_forward_hooks(layer, filter_idx))\n",
    "    self.handlers.append(self._register_backward_hooks())\n",
    "\n",
    "    # Inisialize gradients\n",
    "\n",
    "    self.gradients = torch.zeros(input_.shape)\n",
    "\n",
    "    # Optimize\n",
    "\n",
    "    return self._ascent(input_, num_iter)\n",
    "\n",
    "\n",
    "GradientAscent.optimize = optimize"
   ]
  },
  {
   "cell_type": "markdown",
   "metadata": {},
   "source": [
    "### Visualize inputs that maximize activations in particular filters of compressed and uncompressed models"
   ]
  },
  {
   "cell_type": "code",
   "execution_count": 14,
   "metadata": {},
   "outputs": [],
   "source": [
    "g_ascent = GradientAscent(model.resnet, img_size=32, use_gpu=True)"
   ]
  },
  {
   "cell_type": "code",
   "execution_count": 15,
   "metadata": {},
   "outputs": [
    {
     "data": {
      "image/png": "[encoded data removed]",
      "text/plain": [
       "<Figure size 1152x360 with 4 Axes>"
      ]
     },
     "metadata": {
      "needs_background": "light"
     },
     "output_type": "display_data"
    }
   ],
   "source": [
    "g_ascent.visualize(model.resnet.layer4[1].conv2, \n",
    "                   filter_idxs=[100, 150, 200], \n",
    "                   title='Resnet18 on CIFAR10: layer4_basicblock1_conv2')"
   ]
  },
  {
   "cell_type": "code",
   "execution_count": 16,
   "metadata": {},
   "outputs": [],
   "source": [
    "g_ascent = GradientAscent(compressed_model.resnet, img_size=32, use_gpu=True)"
   ]
  },
  {
   "cell_type": "code",
   "execution_count": 17,
   "metadata": {},
   "outputs": [
    {
     "data": {
      "image/png": "[encoded data removed]",
      "text/plain": [
       "<Figure size 1152x360 with 4 Axes>"
      ]
     },
     "metadata": {
      "needs_background": "light"
     },
     "output_type": "display_data"
    }
   ],
   "source": [
    "g_ascent.visualize(compressed_model.resnet.layer4[1].conv2, \n",
    "                   filter_idxs=[100, 150, 200], \n",
    "                   title='Resnet18 INT8 on CIFAR10: layer4_basicblock1_conv2')"
   ]
  }
 ],
 "metadata": {
  "kernelspec": {
   "display_name": "pyspike",
   "language": "python",
   "name": "pyspike"
  },
  "language_info": {
   "codemirror_mode": {
    "name": "ipython",
    "version": 3
   },
   "file_extension": ".py",
   "mimetype": "text/x-python",
   "name": "python",
   "nbconvert_exporter": "python",
   "pygments_lexer": "ipython3",
   "version": "3.7.3"
  }
 },
 "nbformat": 4,
 "nbformat_minor": 4
}
